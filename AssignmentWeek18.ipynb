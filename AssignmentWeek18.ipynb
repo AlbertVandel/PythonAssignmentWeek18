{
 "cells": [
  {
   "cell_type": "markdown",
   "metadata": {},
   "source": [
    "### Write a program that capture video from your webcam, that finds and marks faces and eyes"
   ]
  },
  {
   "cell_type": "code",
   "execution_count": 1,
   "metadata": {},
   "outputs": [],
   "source": [
    "import cv2\n",
    "\n",
    "cap = cv2.VideoCapture(0)\n",
    "\n",
    "w, h = (640, 480)\n",
    "cap.set(cv2.CAP_PROP_FRAME_WIDTH, w)\n",
    "cap.set(cv2.CAP_PROP_FRAME_HEIGHT, h)\n",
    "\n",
    "while True:\n",
    "    ret,frame = cap.read()\n",
    "\n",
    "    cv2.imshow('image',frame)\n",
    "    \n",
    "    if cv2.waitKey(1) == 27:\n",
    "        break"
   ]
  },
  {
   "cell_type": "code",
   "execution_count": null,
   "metadata": {},
   "outputs": [],
   "source": []
  }
 ],
 "metadata": {
  "kernelspec": {
   "display_name": "Python 3",
   "language": "python",
   "name": "python3"
  },
  "language_info": {
   "codemirror_mode": {
    "name": "ipython",
    "version": 3
   },
   "file_extension": ".py",
   "mimetype": "text/x-python",
   "name": "python",
   "nbconvert_exporter": "python",
   "pygments_lexer": "ipython3",
   "version": "3.7.1"
  }
 },
 "nbformat": 4,
 "nbformat_minor": 2
}
